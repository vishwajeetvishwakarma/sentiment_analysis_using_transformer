{
 "cells": [
  {
   "cell_type": "code",
   "execution_count": 1,
   "id": "d8a0957b-1990-438a-b312-48af78b6e840",
   "metadata": {
    "collapsed": true,
    "execution": {
     "iopub.execute_input": "2023-10-27T04:38:40.892529Z",
     "iopub.status.busy": "2023-10-27T04:38:40.892118Z",
     "iopub.status.idle": "2023-10-27T04:38:56.176275Z",
     "shell.execute_reply": "2023-10-27T04:38:56.175481Z",
     "shell.execute_reply.started": "2023-10-27T04:38:40.892502Z"
    },
    "jupyter": {
     "outputs_hidden": true
    },
    "tags": []
   },
   "outputs": [
    {
     "name": "stdout",
     "output_type": "stream",
     "text": [
      "Collecting transformers\n",
      "  Obtaining dependency information for transformers from https://files.pythonhosted.org/packages/c1/bd/f64d67df4d3b05a460f281defe830ffab6d7940b7ca98ec085e94e024781/transformers-4.34.1-py3-none-any.whl.metadata\n",
      "  Downloading transformers-4.34.1-py3-none-any.whl.metadata (121 kB)\n",
      "\u001b[2K     \u001b[90m━━━━━━━━━━━━━━━━━━━━━━━━━━━━━━━━━━━━━━━\u001b[0m \u001b[32m121.5/121.5 kB\u001b[0m \u001b[31m5.2 MB/s\u001b[0m eta \u001b[36m0:00:00\u001b[0m\n",
      "\u001b[?25hCollecting datasets\n",
      "  Obtaining dependency information for datasets from https://files.pythonhosted.org/packages/7c/55/b3432f43d6d7fee999bb23a547820d74c48ec540f5f7842e41aa5d8d5f3a/datasets-2.14.6-py3-none-any.whl.metadata\n",
      "  Downloading datasets-2.14.6-py3-none-any.whl.metadata (19 kB)\n",
      "Collecting filelock (from transformers)\n",
      "  Obtaining dependency information for filelock from https://files.pythonhosted.org/packages/5e/5d/97afbafd9d584ff1b45fcb354a479a3609bd97f912f8f1f6c563cb1fae21/filelock-3.12.4-py3-none-any.whl.metadata\n",
      "  Downloading filelock-3.12.4-py3-none-any.whl.metadata (2.8 kB)\n",
      "Collecting huggingface-hub<1.0,>=0.16.4 (from transformers)\n",
      "  Obtaining dependency information for huggingface-hub<1.0,>=0.16.4 from https://files.pythonhosted.org/packages/ef/b5/b6107bd65fa4c96fdf00e4733e2fe5729bb9e5e09997f63074bb43d3ab28/huggingface_hub-0.18.0-py3-none-any.whl.metadata\n",
      "  Downloading huggingface_hub-0.18.0-py3-none-any.whl.metadata (13 kB)\n",
      "Requirement already satisfied: numpy>=1.17 in /opt/saturncloud/envs/saturn/lib/python3.9/site-packages (from transformers) (1.21.6)\n",
      "Requirement already satisfied: packaging>=20.0 in /opt/saturncloud/envs/saturn/lib/python3.9/site-packages (from transformers) (23.1)\n",
      "Requirement already satisfied: pyyaml>=5.1 in /opt/saturncloud/envs/saturn/lib/python3.9/site-packages (from transformers) (6.0)\n",
      "Collecting regex!=2019.12.17 (from transformers)\n",
      "  Obtaining dependency information for regex!=2019.12.17 from https://files.pythonhosted.org/packages/54/71/b85c050a8b6a552261e9deae23ba20099852cfbcc9819a628ce64f5a0db6/regex-2023.10.3-cp39-cp39-manylinux_2_17_x86_64.manylinux2014_x86_64.whl.metadata\n",
      "  Downloading regex-2023.10.3-cp39-cp39-manylinux_2_17_x86_64.manylinux2014_x86_64.whl.metadata (40 kB)\n",
      "\u001b[2K     \u001b[90m━━━━━━━━━━━━━━━━━━━━━━━━━━━━━━━━━━━━━━━━\u001b[0m \u001b[32m40.9/40.9 kB\u001b[0m \u001b[31m9.3 MB/s\u001b[0m eta \u001b[36m0:00:00\u001b[0m\n",
      "\u001b[?25hRequirement already satisfied: requests in /opt/saturncloud/envs/saturn/lib/python3.9/site-packages (from transformers) (2.31.0)\n",
      "Collecting tokenizers<0.15,>=0.14 (from transformers)\n",
      "  Obtaining dependency information for tokenizers<0.15,>=0.14 from https://files.pythonhosted.org/packages/c5/c0/fab17cd02d68d4b62f09f47a30d03cd3e9acd0e59bbc23006d0a84a4989e/tokenizers-0.14.1-cp39-cp39-manylinux_2_17_x86_64.manylinux2014_x86_64.whl.metadata\n",
      "  Downloading tokenizers-0.14.1-cp39-cp39-manylinux_2_17_x86_64.manylinux2014_x86_64.whl.metadata (6.7 kB)\n",
      "Collecting safetensors>=0.3.1 (from transformers)\n",
      "  Obtaining dependency information for safetensors>=0.3.1 from https://files.pythonhosted.org/packages/8b/50/e72b8adba500c8d09f768953196378eac2a119717cc90b2b6b14e044ad44/safetensors-0.4.0-cp39-cp39-manylinux_2_17_x86_64.manylinux2014_x86_64.whl.metadata\n",
      "  Downloading safetensors-0.4.0-cp39-cp39-manylinux_2_17_x86_64.manylinux2014_x86_64.whl.metadata (3.8 kB)\n",
      "Requirement already satisfied: tqdm>=4.27 in /opt/saturncloud/envs/saturn/lib/python3.9/site-packages (from transformers) (4.65.0)\n",
      "Collecting pyarrow>=8.0.0 (from datasets)\n",
      "  Obtaining dependency information for pyarrow>=8.0.0 from https://files.pythonhosted.org/packages/49/db/0a40d2a5b2382c77536479894ce2900e5f4c40251681a72d397ba6430f8d/pyarrow-13.0.0-cp39-cp39-manylinux_2_28_x86_64.whl.metadata\n",
      "  Downloading pyarrow-13.0.0-cp39-cp39-manylinux_2_28_x86_64.whl.metadata (3.0 kB)\n",
      "Collecting dill<0.3.8,>=0.3.0 (from datasets)\n",
      "  Obtaining dependency information for dill<0.3.8,>=0.3.0 from https://files.pythonhosted.org/packages/f5/3a/74a29b11cf2cdfcd6ba89c0cecd70b37cd1ba7b77978ce611eb7a146a832/dill-0.3.7-py3-none-any.whl.metadata\n",
      "  Downloading dill-0.3.7-py3-none-any.whl.metadata (9.9 kB)\n",
      "Requirement already satisfied: pandas in /opt/saturncloud/envs/saturn/lib/python3.9/site-packages (from datasets) (1.4.2)\n",
      "Collecting xxhash (from datasets)\n",
      "  Obtaining dependency information for xxhash from https://files.pythonhosted.org/packages/63/93/812d78f70145c68c4e64533f4d625bea01236f27698febe15f0ceebc1566/xxhash-3.4.1-cp39-cp39-manylinux_2_17_x86_64.manylinux2014_x86_64.whl.metadata\n",
      "  Downloading xxhash-3.4.1-cp39-cp39-manylinux_2_17_x86_64.manylinux2014_x86_64.whl.metadata (12 kB)\n",
      "Collecting multiprocess (from datasets)\n",
      "  Obtaining dependency information for multiprocess from https://files.pythonhosted.org/packages/c6/c9/820b5ab056f4ada76fbe05bd481a948f287957d6cbfd59e2dd2618b408c1/multiprocess-0.70.15-py39-none-any.whl.metadata\n",
      "  Downloading multiprocess-0.70.15-py39-none-any.whl.metadata (7.2 kB)\n",
      "Collecting fsspec[http]<=2023.10.0,>=2023.1.0 (from datasets)\n",
      "  Obtaining dependency information for fsspec[http]<=2023.10.0,>=2023.1.0 from https://files.pythonhosted.org/packages/e8/f6/3eccfb530aac90ad1301c582da228e4763f19e719ac8200752a4841b0b2d/fsspec-2023.10.0-py3-none-any.whl.metadata\n",
      "  Downloading fsspec-2023.10.0-py3-none-any.whl.metadata (6.8 kB)\n",
      "Requirement already satisfied: aiohttp in /opt/saturncloud/envs/saturn/lib/python3.9/site-packages (from datasets) (3.8.5)\n",
      "Requirement already satisfied: attrs>=17.3.0 in /opt/saturncloud/envs/saturn/lib/python3.9/site-packages (from aiohttp->datasets) (23.1.0)\n",
      "Requirement already satisfied: charset-normalizer<4.0,>=2.0 in /opt/saturncloud/envs/saturn/lib/python3.9/site-packages (from aiohttp->datasets) (2.0.12)\n",
      "Requirement already satisfied: multidict<7.0,>=4.5 in /opt/saturncloud/envs/saturn/lib/python3.9/site-packages (from aiohttp->datasets) (6.0.4)\n",
      "Requirement already satisfied: async-timeout<5.0,>=4.0.0a3 in /opt/saturncloud/envs/saturn/lib/python3.9/site-packages (from aiohttp->datasets) (4.0.2)\n",
      "Requirement already satisfied: yarl<2.0,>=1.0 in /opt/saturncloud/envs/saturn/lib/python3.9/site-packages (from aiohttp->datasets) (1.9.2)\n",
      "Requirement already satisfied: frozenlist>=1.1.1 in /opt/saturncloud/envs/saturn/lib/python3.9/site-packages (from aiohttp->datasets) (1.4.0)\n",
      "Requirement already satisfied: aiosignal>=1.1.2 in /opt/saturncloud/envs/saturn/lib/python3.9/site-packages (from aiohttp->datasets) (1.3.1)\n",
      "Requirement already satisfied: typing-extensions>=3.7.4.3 in /opt/saturncloud/envs/saturn/lib/python3.9/site-packages (from huggingface-hub<1.0,>=0.16.4->transformers) (4.7.1)\n",
      "Requirement already satisfied: idna<4,>=2.5 in /opt/saturncloud/envs/saturn/lib/python3.9/site-packages (from requests->transformers) (3.4)\n",
      "Requirement already satisfied: urllib3<3,>=1.21.1 in /opt/saturncloud/envs/saturn/lib/python3.9/site-packages (from requests->transformers) (1.26.15)\n",
      "Requirement already satisfied: certifi>=2017.4.17 in /opt/saturncloud/envs/saturn/lib/python3.9/site-packages (from requests->transformers) (2023.7.22)\n",
      "Collecting huggingface-hub<1.0,>=0.16.4 (from transformers)\n",
      "  Obtaining dependency information for huggingface-hub<1.0,>=0.16.4 from https://files.pythonhosted.org/packages/aa/f3/3fc97336a0e90516901befd4f500f08d691034d387406fdbde85bea827cc/huggingface_hub-0.17.3-py3-none-any.whl.metadata\n",
      "  Downloading huggingface_hub-0.17.3-py3-none-any.whl.metadata (13 kB)\n",
      "Requirement already satisfied: python-dateutil>=2.8.1 in /opt/saturncloud/envs/saturn/lib/python3.9/site-packages (from pandas->datasets) (2.8.2)\n",
      "Requirement already satisfied: pytz>=2020.1 in /opt/saturncloud/envs/saturn/lib/python3.9/site-packages (from pandas->datasets) (2023.3)\n",
      "Requirement already satisfied: six>=1.5 in /opt/saturncloud/envs/saturn/lib/python3.9/site-packages (from python-dateutil>=2.8.1->pandas->datasets) (1.16.0)\n",
      "Downloading transformers-4.34.1-py3-none-any.whl (7.7 MB)\n",
      "\u001b[2K   \u001b[90m━━━━━━━━━━━━━━━━━━━━━━━━━━━━━━━━━━━━━━━━\u001b[0m \u001b[32m7.7/7.7 MB\u001b[0m \u001b[31m70.1 MB/s\u001b[0m eta \u001b[36m0:00:00\u001b[0m:00:01\u001b[0m0:01\u001b[0m\n",
      "\u001b[?25hDownloading datasets-2.14.6-py3-none-any.whl (493 kB)\n",
      "\u001b[2K   \u001b[90m━━━━━━━━━━━━━━━━━━━━━━━━━━━━━━━━━━━━━━━━\u001b[0m \u001b[32m493.7/493.7 kB\u001b[0m \u001b[31m52.0 MB/s\u001b[0m eta \u001b[36m0:00:00\u001b[0m\n",
      "\u001b[?25hDownloading dill-0.3.7-py3-none-any.whl (115 kB)\n",
      "\u001b[2K   \u001b[90m━━━━━━━━━━━━━━━━━━━━━━━━━━━━━━━━━━━━━━━━\u001b[0m \u001b[32m115.3/115.3 kB\u001b[0m \u001b[31m24.3 MB/s\u001b[0m eta \u001b[36m0:00:00\u001b[0m\n",
      "\u001b[?25hDownloading pyarrow-13.0.0-cp39-cp39-manylinux_2_28_x86_64.whl (40.1 MB)\n",
      "\u001b[2K   \u001b[90m━━━━━━━━━━━━━━━━━━━━━━━━━━━━━━━━━━━━━━━━\u001b[0m \u001b[32m40.1/40.1 MB\u001b[0m \u001b[31m41.5 MB/s\u001b[0m eta \u001b[36m0:00:00\u001b[0m:00:01\u001b[0m00:01\u001b[0m\n",
      "\u001b[?25hDownloading regex-2023.10.3-cp39-cp39-manylinux_2_17_x86_64.manylinux2014_x86_64.whl (773 kB)\n",
      "\u001b[2K   \u001b[90m━━━━━━━━━━━━━━━━━━━━━━━━━━━━━━━━━━━━━━━━\u001b[0m \u001b[32m773.3/773.3 kB\u001b[0m \u001b[31m63.3 MB/s\u001b[0m eta \u001b[36m0:00:00\u001b[0m\n",
      "\u001b[?25hDownloading safetensors-0.4.0-cp39-cp39-manylinux_2_17_x86_64.manylinux2014_x86_64.whl (1.3 MB)\n",
      "\u001b[2K   \u001b[90m━━━━━━━━━━━━━━━━━━━━━━━━━━━━━━━━━━━━━━━━\u001b[0m \u001b[32m1.3/1.3 MB\u001b[0m \u001b[31m81.3 MB/s\u001b[0m eta \u001b[36m0:00:00\u001b[0m\n",
      "\u001b[?25hDownloading tokenizers-0.14.1-cp39-cp39-manylinux_2_17_x86_64.manylinux2014_x86_64.whl (3.8 MB)\n",
      "\u001b[2K   \u001b[90m━━━━━━━━━━━━━━━━━━━━━━━━━━━━━━━━━━━━━━━━\u001b[0m \u001b[32m3.8/3.8 MB\u001b[0m \u001b[31m103.2 MB/s\u001b[0m eta \u001b[36m0:00:00\u001b[0m00:01\u001b[0m\n",
      "\u001b[?25hDownloading huggingface_hub-0.17.3-py3-none-any.whl (295 kB)\n",
      "\u001b[2K   \u001b[90m━━━━━━━━━━━━━━━━━━━━━━━━━━━━━━━━━━━━━━━━\u001b[0m \u001b[32m295.0/295.0 kB\u001b[0m \u001b[31m37.5 MB/s\u001b[0m eta \u001b[36m0:00:00\u001b[0m\n",
      "\u001b[?25hDownloading filelock-3.12.4-py3-none-any.whl (11 kB)\n",
      "Downloading multiprocess-0.70.15-py39-none-any.whl (133 kB)\n",
      "\u001b[2K   \u001b[90m━━━━━━━━━━━━━━━━━━━━━━━━━━━━━━━━━━━━━━━━\u001b[0m \u001b[32m133.3/133.3 kB\u001b[0m \u001b[31m23.7 MB/s\u001b[0m eta \u001b[36m0:00:00\u001b[0m\n",
      "\u001b[?25hDownloading xxhash-3.4.1-cp39-cp39-manylinux_2_17_x86_64.manylinux2014_x86_64.whl (193 kB)\n",
      "\u001b[2K   \u001b[90m━━━━━━━━━━━━━━━━━━━━━━━━━━━━━━━━━━━━━━━━\u001b[0m \u001b[32m193.8/193.8 kB\u001b[0m \u001b[31m31.7 MB/s\u001b[0m eta \u001b[36m0:00:00\u001b[0m\n",
      "\u001b[?25hDownloading fsspec-2023.10.0-py3-none-any.whl (166 kB)\n",
      "\u001b[2K   \u001b[90m━━━━━━━━━━━━━━━━━━━━━━━━━━━━━━━━━━━━━━━━\u001b[0m \u001b[32m166.4/166.4 kB\u001b[0m \u001b[31m30.7 MB/s\u001b[0m eta \u001b[36m0:00:00\u001b[0m\n",
      "\u001b[?25hInstalling collected packages: xxhash, safetensors, regex, pyarrow, fsspec, filelock, dill, multiprocess, huggingface-hub, tokenizers, transformers, datasets\n",
      "  Attempting uninstall: pyarrow\n",
      "    Found existing installation: pyarrow 6.0.1\n",
      "    Uninstalling pyarrow-6.0.1:\n",
      "      Successfully uninstalled pyarrow-6.0.1\n",
      "  Attempting uninstall: fsspec\n",
      "    Found existing installation: fsspec 2022.3.0\n",
      "    Uninstalling fsspec-2022.3.0:\n",
      "      Successfully uninstalled fsspec-2022.3.0\n",
      "\u001b[31mERROR: pip's dependency resolver does not currently take into account all the packages that are installed. This behaviour is the source of the following dependency conflicts.\n",
      "s3fs 2022.3.0 requires fsspec==2022.3.0, but you have fsspec 2023.10.0 which is incompatible.\u001b[0m\u001b[31m\n",
      "\u001b[0mSuccessfully installed datasets-2.14.6 dill-0.3.7 filelock-3.12.4 fsspec-2023.10.0 huggingface-hub-0.17.3 multiprocess-0.70.15 pyarrow-13.0.0 regex-2023.10.3 safetensors-0.4.0 tokenizers-0.14.1 transformers-4.34.1 xxhash-3.4.1\n"
     ]
    }
   ],
   "source": [
    "!pip install transformers datasets"
   ]
  },
  {
   "cell_type": "code",
   "execution_count": 71,
   "id": "29af8b75-d18a-4d9d-934b-bb35bd29b8c2",
   "metadata": {
    "execution": {
     "iopub.execute_input": "2023-10-27T05:08:32.127446Z",
     "iopub.status.busy": "2023-10-27T05:08:32.127015Z",
     "iopub.status.idle": "2023-10-27T05:08:35.778835Z",
     "shell.execute_reply": "2023-10-27T05:08:35.777993Z",
     "shell.execute_reply.started": "2023-10-27T05:08:32.127413Z"
    },
    "tags": []
   },
   "outputs": [
    {
     "name": "stderr",
     "output_type": "stream",
     "text": [
      "huggingface/tokenizers: The current process just got forked, after parallelism has already been used. Disabling parallelism to avoid deadlocks...\n",
      "To disable this warning, you can either:\n",
      "\t- Avoid using `tokenizers` before the fork if possible\n",
      "\t- Explicitly set the environment variable TOKENIZERS_PARALLELISM=(true | false)\n"
     ]
    }
   ],
   "source": [
    "!pip install accelerate -U -q"
   ]
  },
  {
   "cell_type": "code",
   "execution_count": 1,
   "id": "e415b373-e85b-4a69-812e-439ce3dc8c9b",
   "metadata": {
    "execution": {
     "iopub.execute_input": "2023-10-27T05:08:52.072009Z",
     "iopub.status.busy": "2023-10-27T05:08:52.071644Z",
     "iopub.status.idle": "2023-10-27T05:08:52.992269Z",
     "shell.execute_reply": "2023-10-27T05:08:52.991567Z",
     "shell.execute_reply.started": "2023-10-27T05:08:52.071983Z"
    },
    "tags": []
   },
   "outputs": [],
   "source": [
    "import pandas as pd \n",
    "import numpy as np \n",
    "import matplotlib.pyplot as plt"
   ]
  },
  {
   "cell_type": "code",
   "execution_count": 4,
   "id": "ba252a42-5971-4512-ae5f-cc247d2cf6da",
   "metadata": {
    "execution": {
     "iopub.execute_input": "2023-10-27T04:40:23.494988Z",
     "iopub.status.busy": "2023-10-27T04:40:23.494550Z",
     "iopub.status.idle": "2023-10-27T04:40:23.619856Z",
     "shell.execute_reply": "2023-10-27T04:40:23.619199Z",
     "shell.execute_reply.started": "2023-10-27T04:40:23.494959Z"
    },
    "tags": []
   },
   "outputs": [
    {
     "data": {
      "text/html": [
       "<div>\n",
       "<style scoped>\n",
       "    .dataframe tbody tr th:only-of-type {\n",
       "        vertical-align: middle;\n",
       "    }\n",
       "\n",
       "    .dataframe tbody tr th {\n",
       "        vertical-align: top;\n",
       "    }\n",
       "\n",
       "    .dataframe thead th {\n",
       "        text-align: right;\n",
       "    }\n",
       "</style>\n",
       "<table border=\"1\" class=\"dataframe\">\n",
       "  <thead>\n",
       "    <tr style=\"text-align: right;\">\n",
       "      <th></th>\n",
       "      <th>clean_comment</th>\n",
       "      <th>category</th>\n",
       "    </tr>\n",
       "  </thead>\n",
       "  <tbody>\n",
       "    <tr>\n",
       "      <th>0</th>\n",
       "      <td>family mormon have never tried explain them t...</td>\n",
       "      <td>1</td>\n",
       "    </tr>\n",
       "    <tr>\n",
       "      <th>1</th>\n",
       "      <td>buddhism has very much lot compatible with chr...</td>\n",
       "      <td>1</td>\n",
       "    </tr>\n",
       "    <tr>\n",
       "      <th>2</th>\n",
       "      <td>seriously don say thing first all they won get...</td>\n",
       "      <td>-1</td>\n",
       "    </tr>\n",
       "    <tr>\n",
       "      <th>3</th>\n",
       "      <td>what you have learned yours and only yours wha...</td>\n",
       "      <td>0</td>\n",
       "    </tr>\n",
       "    <tr>\n",
       "      <th>4</th>\n",
       "      <td>for your own benefit you may want read living ...</td>\n",
       "      <td>1</td>\n",
       "    </tr>\n",
       "    <tr>\n",
       "      <th>...</th>\n",
       "      <td>...</td>\n",
       "      <td>...</td>\n",
       "    </tr>\n",
       "    <tr>\n",
       "      <th>37244</th>\n",
       "      <td>jesus</td>\n",
       "      <td>0</td>\n",
       "    </tr>\n",
       "    <tr>\n",
       "      <th>37245</th>\n",
       "      <td>kya bhai pure saal chutiya banaya modi aur jab...</td>\n",
       "      <td>1</td>\n",
       "    </tr>\n",
       "    <tr>\n",
       "      <th>37246</th>\n",
       "      <td>downvote karna tha par upvote hogaya</td>\n",
       "      <td>0</td>\n",
       "    </tr>\n",
       "    <tr>\n",
       "      <th>37247</th>\n",
       "      <td>haha nice</td>\n",
       "      <td>1</td>\n",
       "    </tr>\n",
       "    <tr>\n",
       "      <th>37248</th>\n",
       "      <td>facebook itself now working bjp’ cell</td>\n",
       "      <td>0</td>\n",
       "    </tr>\n",
       "  </tbody>\n",
       "</table>\n",
       "<p>37249 rows × 2 columns</p>\n",
       "</div>"
      ],
      "text/plain": [
       "                                           clean_comment  category\n",
       "0       family mormon have never tried explain them t...         1\n",
       "1      buddhism has very much lot compatible with chr...         1\n",
       "2      seriously don say thing first all they won get...        -1\n",
       "3      what you have learned yours and only yours wha...         0\n",
       "4      for your own benefit you may want read living ...         1\n",
       "...                                                  ...       ...\n",
       "37244                                              jesus         0\n",
       "37245  kya bhai pure saal chutiya banaya modi aur jab...         1\n",
       "37246              downvote karna tha par upvote hogaya          0\n",
       "37247                                         haha nice          1\n",
       "37248             facebook itself now working bjp’ cell          0\n",
       "\n",
       "[37249 rows x 2 columns]"
      ]
     },
     "execution_count": 4,
     "metadata": {},
     "output_type": "execute_result"
    }
   ],
   "source": [
    "df = pd.read_csv(\"Reddit_Data.csv\")\n",
    "df"
   ]
  },
  {
   "cell_type": "code",
   "execution_count": 5,
   "id": "f5a7bbfb-b12b-4c1c-b87b-2b2910d46dbd",
   "metadata": {
    "execution": {
     "iopub.execute_input": "2023-10-27T04:41:31.328697Z",
     "iopub.status.busy": "2023-10-27T04:41:31.328264Z",
     "iopub.status.idle": "2023-10-27T04:41:31.335039Z",
     "shell.execute_reply": "2023-10-27T04:41:31.334074Z",
     "shell.execute_reply.started": "2023-10-27T04:41:31.328669Z"
    },
    "tags": []
   },
   "outputs": [],
   "source": [
    "label_data_mapping = {-1 : 0 , 0 : 1 , 1 : 2}\n",
    "df['category'] = df['category'].map(label_data_mapping)"
   ]
  },
  {
   "cell_type": "code",
   "execution_count": 7,
   "id": "44f9b13d-d271-4b8f-b827-a0314111d1db",
   "metadata": {
    "execution": {
     "iopub.execute_input": "2023-10-27T04:41:59.019492Z",
     "iopub.status.busy": "2023-10-27T04:41:59.019097Z",
     "iopub.status.idle": "2023-10-27T04:41:59.023686Z",
     "shell.execute_reply": "2023-10-27T04:41:59.022783Z",
     "shell.execute_reply.started": "2023-10-27T04:41:59.019464Z"
    },
    "tags": []
   },
   "outputs": [],
   "source": [
    "df.columns = ['sentence' , 'label']"
   ]
  },
  {
   "cell_type": "code",
   "execution_count": 9,
   "id": "b68954c4-4889-4a1c-b71a-22e93aaeb51d",
   "metadata": {
    "execution": {
     "iopub.execute_input": "2023-10-27T04:42:07.160027Z",
     "iopub.status.busy": "2023-10-27T04:42:07.159642Z",
     "iopub.status.idle": "2023-10-27T04:42:07.167324Z",
     "shell.execute_reply": "2023-10-27T04:42:07.166493Z",
     "shell.execute_reply.started": "2023-10-27T04:42:07.160000Z"
    },
    "tags": []
   },
   "outputs": [
    {
     "data": {
      "text/html": [
       "<div>\n",
       "<style scoped>\n",
       "    .dataframe tbody tr th:only-of-type {\n",
       "        vertical-align: middle;\n",
       "    }\n",
       "\n",
       "    .dataframe tbody tr th {\n",
       "        vertical-align: top;\n",
       "    }\n",
       "\n",
       "    .dataframe thead th {\n",
       "        text-align: right;\n",
       "    }\n",
       "</style>\n",
       "<table border=\"1\" class=\"dataframe\">\n",
       "  <thead>\n",
       "    <tr style=\"text-align: right;\">\n",
       "      <th></th>\n",
       "      <th>sentence</th>\n",
       "      <th>label</th>\n",
       "    </tr>\n",
       "  </thead>\n",
       "  <tbody>\n",
       "    <tr>\n",
       "      <th>0</th>\n",
       "      <td>family mormon have never tried explain them t...</td>\n",
       "      <td>2</td>\n",
       "    </tr>\n",
       "    <tr>\n",
       "      <th>1</th>\n",
       "      <td>buddhism has very much lot compatible with chr...</td>\n",
       "      <td>2</td>\n",
       "    </tr>\n",
       "    <tr>\n",
       "      <th>2</th>\n",
       "      <td>seriously don say thing first all they won get...</td>\n",
       "      <td>0</td>\n",
       "    </tr>\n",
       "    <tr>\n",
       "      <th>3</th>\n",
       "      <td>what you have learned yours and only yours wha...</td>\n",
       "      <td>1</td>\n",
       "    </tr>\n",
       "    <tr>\n",
       "      <th>4</th>\n",
       "      <td>for your own benefit you may want read living ...</td>\n",
       "      <td>2</td>\n",
       "    </tr>\n",
       "  </tbody>\n",
       "</table>\n",
       "</div>"
      ],
      "text/plain": [
       "                                            sentence  label\n",
       "0   family mormon have never tried explain them t...      2\n",
       "1  buddhism has very much lot compatible with chr...      2\n",
       "2  seriously don say thing first all they won get...      0\n",
       "3  what you have learned yours and only yours wha...      1\n",
       "4  for your own benefit you may want read living ...      2"
      ]
     },
     "execution_count": 9,
     "metadata": {},
     "output_type": "execute_result"
    }
   ],
   "source": [
    "df.head()"
   ]
  },
  {
   "cell_type": "code",
   "execution_count": 47,
   "id": "d80ba0a1-1bf1-48d6-aeb1-9bdb28b1a1f4",
   "metadata": {
    "execution": {
     "iopub.execute_input": "2023-10-27T05:02:55.188859Z",
     "iopub.status.busy": "2023-10-27T05:02:55.188451Z",
     "iopub.status.idle": "2023-10-27T05:02:55.210947Z",
     "shell.execute_reply": "2023-10-27T05:02:55.210298Z",
     "shell.execute_reply.started": "2023-10-27T05:02:55.188834Z"
    },
    "tags": []
   },
   "outputs": [],
   "source": [
    "df.drop_duplicates(inplace=True)"
   ]
  },
  {
   "cell_type": "code",
   "execution_count": 49,
   "id": "1f97f863-936e-4ff4-8bd7-928df366eef3",
   "metadata": {
    "execution": {
     "iopub.execute_input": "2023-10-27T05:03:17.603490Z",
     "iopub.status.busy": "2023-10-27T05:03:17.603085Z",
     "iopub.status.idle": "2023-10-27T05:03:17.616470Z",
     "shell.execute_reply": "2023-10-27T05:03:17.615777Z",
     "shell.execute_reply.started": "2023-10-27T05:03:17.603460Z"
    },
    "tags": []
   },
   "outputs": [],
   "source": [
    "df.dropna(inplace=True)"
   ]
  },
  {
   "cell_type": "code",
   "execution_count": 50,
   "id": "f4d63c8a-a87e-4c69-a778-99a42a8d97eb",
   "metadata": {
    "execution": {
     "iopub.execute_input": "2023-10-27T05:03:19.718546Z",
     "iopub.status.busy": "2023-10-27T05:03:19.718143Z",
     "iopub.status.idle": "2023-10-27T05:03:19.727793Z",
     "shell.execute_reply": "2023-10-27T05:03:19.726999Z",
     "shell.execute_reply.started": "2023-10-27T05:03:19.718518Z"
    },
    "tags": []
   },
   "outputs": [
    {
     "data": {
      "text/html": [
       "<div>\n",
       "<style scoped>\n",
       "    .dataframe tbody tr th:only-of-type {\n",
       "        vertical-align: middle;\n",
       "    }\n",
       "\n",
       "    .dataframe tbody tr th {\n",
       "        vertical-align: top;\n",
       "    }\n",
       "\n",
       "    .dataframe thead th {\n",
       "        text-align: right;\n",
       "    }\n",
       "</style>\n",
       "<table border=\"1\" class=\"dataframe\">\n",
       "  <thead>\n",
       "    <tr style=\"text-align: right;\">\n",
       "      <th></th>\n",
       "      <th>sentence</th>\n",
       "      <th>label</th>\n",
       "    </tr>\n",
       "  </thead>\n",
       "  <tbody>\n",
       "    <tr>\n",
       "      <th>0</th>\n",
       "      <td>family mormon have never tried explain them t...</td>\n",
       "      <td>2</td>\n",
       "    </tr>\n",
       "    <tr>\n",
       "      <th>1</th>\n",
       "      <td>buddhism has very much lot compatible with chr...</td>\n",
       "      <td>2</td>\n",
       "    </tr>\n",
       "    <tr>\n",
       "      <th>2</th>\n",
       "      <td>seriously don say thing first all they won get...</td>\n",
       "      <td>0</td>\n",
       "    </tr>\n",
       "    <tr>\n",
       "      <th>3</th>\n",
       "      <td>what you have learned yours and only yours wha...</td>\n",
       "      <td>1</td>\n",
       "    </tr>\n",
       "    <tr>\n",
       "      <th>4</th>\n",
       "      <td>for your own benefit you may want read living ...</td>\n",
       "      <td>2</td>\n",
       "    </tr>\n",
       "    <tr>\n",
       "      <th>...</th>\n",
       "      <td>...</td>\n",
       "      <td>...</td>\n",
       "    </tr>\n",
       "    <tr>\n",
       "      <th>37244</th>\n",
       "      <td>jesus</td>\n",
       "      <td>1</td>\n",
       "    </tr>\n",
       "    <tr>\n",
       "      <th>37245</th>\n",
       "      <td>kya bhai pure saal chutiya banaya modi aur jab...</td>\n",
       "      <td>2</td>\n",
       "    </tr>\n",
       "    <tr>\n",
       "      <th>37246</th>\n",
       "      <td>downvote karna tha par upvote hogaya</td>\n",
       "      <td>1</td>\n",
       "    </tr>\n",
       "    <tr>\n",
       "      <th>37247</th>\n",
       "      <td>haha nice</td>\n",
       "      <td>2</td>\n",
       "    </tr>\n",
       "    <tr>\n",
       "      <th>37248</th>\n",
       "      <td>facebook itself now working bjp’ cell</td>\n",
       "      <td>1</td>\n",
       "    </tr>\n",
       "  </tbody>\n",
       "</table>\n",
       "<p>36799 rows × 2 columns</p>\n",
       "</div>"
      ],
      "text/plain": [
       "                                                sentence  label\n",
       "0       family mormon have never tried explain them t...      2\n",
       "1      buddhism has very much lot compatible with chr...      2\n",
       "2      seriously don say thing first all they won get...      0\n",
       "3      what you have learned yours and only yours wha...      1\n",
       "4      for your own benefit you may want read living ...      2\n",
       "...                                                  ...    ...\n",
       "37244                                              jesus      1\n",
       "37245  kya bhai pure saal chutiya banaya modi aur jab...      2\n",
       "37246              downvote karna tha par upvote hogaya       1\n",
       "37247                                         haha nice       2\n",
       "37248             facebook itself now working bjp’ cell       1\n",
       "\n",
       "[36799 rows x 2 columns]"
      ]
     },
     "execution_count": 50,
     "metadata": {},
     "output_type": "execute_result"
    }
   ],
   "source": [
    "df"
   ]
  },
  {
   "cell_type": "code",
   "execution_count": 51,
   "id": "b3cfef5a-946a-40f7-be95-31eec13e8436",
   "metadata": {
    "execution": {
     "iopub.execute_input": "2023-10-27T05:03:28.328578Z",
     "iopub.status.busy": "2023-10-27T05:03:28.328181Z",
     "iopub.status.idle": "2023-10-27T05:03:28.532798Z",
     "shell.execute_reply": "2023-10-27T05:03:28.532134Z",
     "shell.execute_reply.started": "2023-10-27T05:03:28.328550Z"
    },
    "tags": []
   },
   "outputs": [],
   "source": [
    "df.to_csv(\"data.csv\" , index=None)"
   ]
  },
  {
   "cell_type": "code",
   "execution_count": 2,
   "id": "b8ecb9bd-e220-42af-80bd-41ab0d7b5b38",
   "metadata": {
    "execution": {
     "iopub.execute_input": "2023-10-27T05:08:57.325901Z",
     "iopub.status.busy": "2023-10-27T05:08:57.325520Z",
     "iopub.status.idle": "2023-10-27T05:08:58.019448Z",
     "shell.execute_reply": "2023-10-27T05:08:58.018833Z",
     "shell.execute_reply.started": "2023-10-27T05:08:57.325876Z"
    },
    "tags": []
   },
   "outputs": [],
   "source": [
    "from transformers import AutoTokenizer\n",
    "from datasets import load_dataset"
   ]
  },
  {
   "cell_type": "code",
   "execution_count": 3,
   "id": "0fd5581a-99d4-4870-a379-302c9effa452",
   "metadata": {
    "execution": {
     "iopub.execute_input": "2023-10-27T05:08:58.021471Z",
     "iopub.status.busy": "2023-10-27T05:08:58.020787Z",
     "iopub.status.idle": "2023-10-27T05:08:58.189735Z",
     "shell.execute_reply": "2023-10-27T05:08:58.189020Z",
     "shell.execute_reply.started": "2023-10-27T05:08:58.021438Z"
    },
    "tags": []
   },
   "outputs": [],
   "source": [
    "data = load_dataset(\"csv\" , data_files=\"data.csv\")"
   ]
  },
  {
   "cell_type": "code",
   "execution_count": 4,
   "id": "fbe57a4e-9d96-4bab-a50a-44e5760326c2",
   "metadata": {
    "execution": {
     "iopub.execute_input": "2023-10-27T05:08:59.674641Z",
     "iopub.status.busy": "2023-10-27T05:08:59.674235Z",
     "iopub.status.idle": "2023-10-27T05:08:59.681804Z",
     "shell.execute_reply": "2023-10-27T05:08:59.680972Z",
     "shell.execute_reply.started": "2023-10-27T05:08:59.674605Z"
    },
    "tags": []
   },
   "outputs": [
    {
     "data": {
      "text/plain": [
       "DatasetDict({\n",
       "    train: Dataset({\n",
       "        features: ['sentence', 'label'],\n",
       "        num_rows: 36799\n",
       "    })\n",
       "})"
      ]
     },
     "execution_count": 4,
     "metadata": {},
     "output_type": "execute_result"
    }
   ],
   "source": [
    "data"
   ]
  },
  {
   "cell_type": "code",
   "execution_count": 5,
   "id": "6da9eb06-78c9-4db4-a1ad-1debf6189267",
   "metadata": {
    "execution": {
     "iopub.execute_input": "2023-10-27T05:09:00.968555Z",
     "iopub.status.busy": "2023-10-27T05:09:00.968137Z",
     "iopub.status.idle": "2023-10-27T05:09:01.304050Z",
     "shell.execute_reply": "2023-10-27T05:09:01.303427Z",
     "shell.execute_reply.started": "2023-10-27T05:09:00.968530Z"
    },
    "tags": []
   },
   "outputs": [],
   "source": [
    "from sklearn.model_selection import train_test_split"
   ]
  },
  {
   "cell_type": "code",
   "execution_count": 6,
   "id": "d91692a2-a674-4b1d-bee3-2e5c20f05eae",
   "metadata": {
    "execution": {
     "iopub.execute_input": "2023-10-27T05:09:01.305762Z",
     "iopub.status.busy": "2023-10-27T05:09:01.305287Z",
     "iopub.status.idle": "2023-10-27T05:09:01.313900Z",
     "shell.execute_reply": "2023-10-27T05:09:01.313351Z",
     "shell.execute_reply.started": "2023-10-27T05:09:01.305740Z"
    },
    "tags": []
   },
   "outputs": [],
   "source": [
    "split = data['train'].train_test_split(seed = 42 , test_size = 0.3)"
   ]
  },
  {
   "cell_type": "code",
   "execution_count": 7,
   "id": "ab05515e-b880-447a-bebb-80e83f77e20a",
   "metadata": {
    "execution": {
     "iopub.execute_input": "2023-10-27T05:09:01.315222Z",
     "iopub.status.busy": "2023-10-27T05:09:01.314937Z",
     "iopub.status.idle": "2023-10-27T05:09:01.319456Z",
     "shell.execute_reply": "2023-10-27T05:09:01.318687Z",
     "shell.execute_reply.started": "2023-10-27T05:09:01.315203Z"
    },
    "tags": []
   },
   "outputs": [
    {
     "data": {
      "text/plain": [
       "DatasetDict({\n",
       "    train: Dataset({\n",
       "        features: ['sentence', 'label'],\n",
       "        num_rows: 25759\n",
       "    })\n",
       "    test: Dataset({\n",
       "        features: ['sentence', 'label'],\n",
       "        num_rows: 11040\n",
       "    })\n",
       "})"
      ]
     },
     "execution_count": 7,
     "metadata": {},
     "output_type": "execute_result"
    }
   ],
   "source": [
    "split"
   ]
  },
  {
   "cell_type": "code",
   "execution_count": null,
   "id": "a041e99f-2e0b-4bc4-b6a3-d77c6b902949",
   "metadata": {
    "tags": []
   },
   "outputs": [],
   "source": []
  },
  {
   "cell_type": "code",
   "execution_count": null,
   "id": "a20110ca-8206-4bfa-b817-a958c6bbb80f",
   "metadata": {},
   "outputs": [],
   "source": []
  },
  {
   "cell_type": "code",
   "execution_count": 8,
   "id": "ef7f9476-29a6-4639-97d1-c358efc6753b",
   "metadata": {
    "execution": {
     "iopub.execute_input": "2023-10-27T05:09:03.294388Z",
     "iopub.status.busy": "2023-10-27T05:09:03.293997Z",
     "iopub.status.idle": "2023-10-27T05:09:03.297725Z",
     "shell.execute_reply": "2023-10-27T05:09:03.297087Z",
     "shell.execute_reply.started": "2023-10-27T05:09:03.294363Z"
    },
    "tags": []
   },
   "outputs": [],
   "source": [
    "checkpoint = \"distilbert-base-uncased\""
   ]
  },
  {
   "cell_type": "code",
   "execution_count": 9,
   "id": "2cc66bb8-9bf6-4ebf-9297-19461f92af5e",
   "metadata": {
    "execution": {
     "iopub.execute_input": "2023-10-27T05:09:03.480238Z",
     "iopub.status.busy": "2023-10-27T05:09:03.479854Z",
     "iopub.status.idle": "2023-10-27T05:09:03.595349Z",
     "shell.execute_reply": "2023-10-27T05:09:03.594672Z",
     "shell.execute_reply.started": "2023-10-27T05:09:03.480213Z"
    },
    "tags": []
   },
   "outputs": [],
   "source": [
    "tokenizer =  AutoTokenizer.from_pretrained(checkpoint)"
   ]
  },
  {
   "cell_type": "code",
   "execution_count": 10,
   "id": "ed5b99f0-351f-47ae-a152-2b0d114f13a4",
   "metadata": {
    "execution": {
     "iopub.execute_input": "2023-10-27T05:09:03.673382Z",
     "iopub.status.busy": "2023-10-27T05:09:03.672875Z",
     "iopub.status.idle": "2023-10-27T05:09:03.677737Z",
     "shell.execute_reply": "2023-10-27T05:09:03.676688Z",
     "shell.execute_reply.started": "2023-10-27T05:09:03.673348Z"
    },
    "tags": []
   },
   "outputs": [],
   "source": [
    "def tokenizer_fn(batch):\n",
    "    return tokenizer(batch['sentence'] , truncation=True , padding=True)"
   ]
  },
  {
   "cell_type": "code",
   "execution_count": 11,
   "id": "6cf4edfb-dbcb-493e-933e-510fa0cdf0a9",
   "metadata": {
    "execution": {
     "iopub.execute_input": "2023-10-27T05:09:03.872293Z",
     "iopub.status.busy": "2023-10-27T05:09:03.871893Z",
     "iopub.status.idle": "2023-10-27T05:09:06.732691Z",
     "shell.execute_reply": "2023-10-27T05:09:06.731890Z",
     "shell.execute_reply.started": "2023-10-27T05:09:03.872269Z"
    },
    "tags": []
   },
   "outputs": [
    {
     "data": {
      "application/vnd.jupyter.widget-view+json": {
       "model_id": "78c7d512e491482bbbd67ce7d5c045c0",
       "version_major": 2,
       "version_minor": 0
      },
      "text/plain": [
       "Map:   0%|          | 0/11040 [00:00<?, ? examples/s]"
      ]
     },
     "metadata": {},
     "output_type": "display_data"
    }
   ],
   "source": [
    "tokenized_dataset = split.map(tokenizer_fn , batched=True)"
   ]
  },
  {
   "cell_type": "code",
   "execution_count": 12,
   "id": "4e02f5f0-db20-4876-b64f-c8bf3571905e",
   "metadata": {
    "execution": {
     "iopub.execute_input": "2023-10-27T05:09:07.855988Z",
     "iopub.status.busy": "2023-10-27T05:09:07.855302Z",
     "iopub.status.idle": "2023-10-27T05:09:07.864316Z",
     "shell.execute_reply": "2023-10-27T05:09:07.863410Z",
     "shell.execute_reply.started": "2023-10-27T05:09:07.855954Z"
    },
    "tags": []
   },
   "outputs": [
    {
     "data": {
      "text/plain": [
       "DatasetDict({\n",
       "    train: Dataset({\n",
       "        features: ['sentence', 'label', 'input_ids', 'attention_mask'],\n",
       "        num_rows: 25759\n",
       "    })\n",
       "    test: Dataset({\n",
       "        features: ['sentence', 'label', 'input_ids', 'attention_mask'],\n",
       "        num_rows: 11040\n",
       "    })\n",
       "})"
      ]
     },
     "execution_count": 12,
     "metadata": {},
     "output_type": "execute_result"
    }
   ],
   "source": [
    "tokenized_dataset"
   ]
  },
  {
   "cell_type": "code",
   "execution_count": 13,
   "id": "1cb0db95-dd9a-45a8-9bf6-5da56fb7d7f0",
   "metadata": {
    "execution": {
     "iopub.execute_input": "2023-10-27T05:09:08.692302Z",
     "iopub.status.busy": "2023-10-27T05:09:08.691912Z",
     "iopub.status.idle": "2023-10-27T05:09:09.364122Z",
     "shell.execute_reply": "2023-10-27T05:09:09.363473Z",
     "shell.execute_reply.started": "2023-10-27T05:09:08.692277Z"
    },
    "tags": []
   },
   "outputs": [],
   "source": [
    "from transformers import AutoModelForSequenceClassification , Trainer , TrainingArguments"
   ]
  },
  {
   "cell_type": "code",
   "execution_count": 14,
   "id": "ec25f2d5-6b4d-4fc9-9f33-75ca52725b68",
   "metadata": {
    "execution": {
     "iopub.execute_input": "2023-10-27T05:09:09.365594Z",
     "iopub.status.busy": "2023-10-27T05:09:09.365255Z",
     "iopub.status.idle": "2023-10-27T05:09:10.068659Z",
     "shell.execute_reply": "2023-10-27T05:09:10.067617Z",
     "shell.execute_reply.started": "2023-10-27T05:09:09.365570Z"
    },
    "tags": []
   },
   "outputs": [
    {
     "name": "stderr",
     "output_type": "stream",
     "text": [
      "Some weights of DistilBertForSequenceClassification were not initialized from the model checkpoint at distilbert-base-uncased and are newly initialized: ['pre_classifier.weight', 'classifier.bias', 'pre_classifier.bias', 'classifier.weight']\n",
      "You should probably TRAIN this model on a down-stream task to be able to use it for predictions and inference.\n"
     ]
    }
   ],
   "source": [
    "model = AutoModelForSequenceClassification.from_pretrained(checkpoint , num_labels=3)"
   ]
  },
  {
   "cell_type": "code",
   "execution_count": 15,
   "id": "f6ac4273-37f2-4fc3-a08d-27cb833fceee",
   "metadata": {
    "execution": {
     "iopub.execute_input": "2023-10-27T05:09:11.704431Z",
     "iopub.status.busy": "2023-10-27T05:09:11.703748Z",
     "iopub.status.idle": "2023-10-27T05:09:11.709781Z",
     "shell.execute_reply": "2023-10-27T05:09:11.709101Z",
     "shell.execute_reply.started": "2023-10-27T05:09:11.704406Z"
    },
    "tags": []
   },
   "outputs": [
    {
     "data": {
      "text/plain": [
       "DistilBertForSequenceClassification(\n",
       "  (distilbert): DistilBertModel(\n",
       "    (embeddings): Embeddings(\n",
       "      (word_embeddings): Embedding(30522, 768, padding_idx=0)\n",
       "      (position_embeddings): Embedding(512, 768)\n",
       "      (LayerNorm): LayerNorm((768,), eps=1e-12, elementwise_affine=True)\n",
       "      (dropout): Dropout(p=0.1, inplace=False)\n",
       "    )\n",
       "    (transformer): Transformer(\n",
       "      (layer): ModuleList(\n",
       "        (0): TransformerBlock(\n",
       "          (attention): MultiHeadSelfAttention(\n",
       "            (dropout): Dropout(p=0.1, inplace=False)\n",
       "            (q_lin): Linear(in_features=768, out_features=768, bias=True)\n",
       "            (k_lin): Linear(in_features=768, out_features=768, bias=True)\n",
       "            (v_lin): Linear(in_features=768, out_features=768, bias=True)\n",
       "            (out_lin): Linear(in_features=768, out_features=768, bias=True)\n",
       "          )\n",
       "          (sa_layer_norm): LayerNorm((768,), eps=1e-12, elementwise_affine=True)\n",
       "          (ffn): FFN(\n",
       "            (dropout): Dropout(p=0.1, inplace=False)\n",
       "            (lin1): Linear(in_features=768, out_features=3072, bias=True)\n",
       "            (lin2): Linear(in_features=3072, out_features=768, bias=True)\n",
       "            (activation): GELUActivation()\n",
       "          )\n",
       "          (output_layer_norm): LayerNorm((768,), eps=1e-12, elementwise_affine=True)\n",
       "        )\n",
       "        (1): TransformerBlock(\n",
       "          (attention): MultiHeadSelfAttention(\n",
       "            (dropout): Dropout(p=0.1, inplace=False)\n",
       "            (q_lin): Linear(in_features=768, out_features=768, bias=True)\n",
       "            (k_lin): Linear(in_features=768, out_features=768, bias=True)\n",
       "            (v_lin): Linear(in_features=768, out_features=768, bias=True)\n",
       "            (out_lin): Linear(in_features=768, out_features=768, bias=True)\n",
       "          )\n",
       "          (sa_layer_norm): LayerNorm((768,), eps=1e-12, elementwise_affine=True)\n",
       "          (ffn): FFN(\n",
       "            (dropout): Dropout(p=0.1, inplace=False)\n",
       "            (lin1): Linear(in_features=768, out_features=3072, bias=True)\n",
       "            (lin2): Linear(in_features=3072, out_features=768, bias=True)\n",
       "            (activation): GELUActivation()\n",
       "          )\n",
       "          (output_layer_norm): LayerNorm((768,), eps=1e-12, elementwise_affine=True)\n",
       "        )\n",
       "        (2): TransformerBlock(\n",
       "          (attention): MultiHeadSelfAttention(\n",
       "            (dropout): Dropout(p=0.1, inplace=False)\n",
       "            (q_lin): Linear(in_features=768, out_features=768, bias=True)\n",
       "            (k_lin): Linear(in_features=768, out_features=768, bias=True)\n",
       "            (v_lin): Linear(in_features=768, out_features=768, bias=True)\n",
       "            (out_lin): Linear(in_features=768, out_features=768, bias=True)\n",
       "          )\n",
       "          (sa_layer_norm): LayerNorm((768,), eps=1e-12, elementwise_affine=True)\n",
       "          (ffn): FFN(\n",
       "            (dropout): Dropout(p=0.1, inplace=False)\n",
       "            (lin1): Linear(in_features=768, out_features=3072, bias=True)\n",
       "            (lin2): Linear(in_features=3072, out_features=768, bias=True)\n",
       "            (activation): GELUActivation()\n",
       "          )\n",
       "          (output_layer_norm): LayerNorm((768,), eps=1e-12, elementwise_affine=True)\n",
       "        )\n",
       "        (3): TransformerBlock(\n",
       "          (attention): MultiHeadSelfAttention(\n",
       "            (dropout): Dropout(p=0.1, inplace=False)\n",
       "            (q_lin): Linear(in_features=768, out_features=768, bias=True)\n",
       "            (k_lin): Linear(in_features=768, out_features=768, bias=True)\n",
       "            (v_lin): Linear(in_features=768, out_features=768, bias=True)\n",
       "            (out_lin): Linear(in_features=768, out_features=768, bias=True)\n",
       "          )\n",
       "          (sa_layer_norm): LayerNorm((768,), eps=1e-12, elementwise_affine=True)\n",
       "          (ffn): FFN(\n",
       "            (dropout): Dropout(p=0.1, inplace=False)\n",
       "            (lin1): Linear(in_features=768, out_features=3072, bias=True)\n",
       "            (lin2): Linear(in_features=3072, out_features=768, bias=True)\n",
       "            (activation): GELUActivation()\n",
       "          )\n",
       "          (output_layer_norm): LayerNorm((768,), eps=1e-12, elementwise_affine=True)\n",
       "        )\n",
       "        (4): TransformerBlock(\n",
       "          (attention): MultiHeadSelfAttention(\n",
       "            (dropout): Dropout(p=0.1, inplace=False)\n",
       "            (q_lin): Linear(in_features=768, out_features=768, bias=True)\n",
       "            (k_lin): Linear(in_features=768, out_features=768, bias=True)\n",
       "            (v_lin): Linear(in_features=768, out_features=768, bias=True)\n",
       "            (out_lin): Linear(in_features=768, out_features=768, bias=True)\n",
       "          )\n",
       "          (sa_layer_norm): LayerNorm((768,), eps=1e-12, elementwise_affine=True)\n",
       "          (ffn): FFN(\n",
       "            (dropout): Dropout(p=0.1, inplace=False)\n",
       "            (lin1): Linear(in_features=768, out_features=3072, bias=True)\n",
       "            (lin2): Linear(in_features=3072, out_features=768, bias=True)\n",
       "            (activation): GELUActivation()\n",
       "          )\n",
       "          (output_layer_norm): LayerNorm((768,), eps=1e-12, elementwise_affine=True)\n",
       "        )\n",
       "        (5): TransformerBlock(\n",
       "          (attention): MultiHeadSelfAttention(\n",
       "            (dropout): Dropout(p=0.1, inplace=False)\n",
       "            (q_lin): Linear(in_features=768, out_features=768, bias=True)\n",
       "            (k_lin): Linear(in_features=768, out_features=768, bias=True)\n",
       "            (v_lin): Linear(in_features=768, out_features=768, bias=True)\n",
       "            (out_lin): Linear(in_features=768, out_features=768, bias=True)\n",
       "          )\n",
       "          (sa_layer_norm): LayerNorm((768,), eps=1e-12, elementwise_affine=True)\n",
       "          (ffn): FFN(\n",
       "            (dropout): Dropout(p=0.1, inplace=False)\n",
       "            (lin1): Linear(in_features=768, out_features=3072, bias=True)\n",
       "            (lin2): Linear(in_features=3072, out_features=768, bias=True)\n",
       "            (activation): GELUActivation()\n",
       "          )\n",
       "          (output_layer_norm): LayerNorm((768,), eps=1e-12, elementwise_affine=True)\n",
       "        )\n",
       "      )\n",
       "    )\n",
       "  )\n",
       "  (pre_classifier): Linear(in_features=768, out_features=768, bias=True)\n",
       "  (classifier): Linear(in_features=768, out_features=3, bias=True)\n",
       "  (dropout): Dropout(p=0.2, inplace=False)\n",
       ")"
      ]
     },
     "execution_count": 15,
     "metadata": {},
     "output_type": "execute_result"
    }
   ],
   "source": [
    "model"
   ]
  },
  {
   "cell_type": "code",
   "execution_count": 16,
   "id": "afcdce58-bbe6-4793-9b15-4c7cae51d07b",
   "metadata": {
    "execution": {
     "iopub.execute_input": "2023-10-27T05:09:15.112411Z",
     "iopub.status.busy": "2023-10-27T05:09:15.112013Z",
     "iopub.status.idle": "2023-10-27T05:09:15.118731Z",
     "shell.execute_reply": "2023-10-27T05:09:15.117971Z",
     "shell.execute_reply.started": "2023-10-27T05:09:15.112384Z"
    },
    "tags": []
   },
   "outputs": [],
   "source": [
    "training_args = TrainingArguments(\n",
    "    output_dir=\"training_dir\",\n",
    "    num_train_epochs=3,\n",
    "    evaluation_strategy=\"epoch\",\n",
    "    save_strategy=\"epoch\",\n",
    "    per_device_eval_batch_size=64 , \n",
    "    per_device_train_batch_size=16,\n",
    ")"
   ]
  },
  {
   "cell_type": "code",
   "execution_count": 22,
   "id": "166950b7-9586-4ea4-b0b8-1058decf7785",
   "metadata": {
    "execution": {
     "iopub.execute_input": "2023-10-27T05:35:40.671987Z",
     "iopub.status.busy": "2023-10-27T05:35:40.671584Z",
     "iopub.status.idle": "2023-10-27T05:35:40.676358Z",
     "shell.execute_reply": "2023-10-27T05:35:40.675568Z",
     "shell.execute_reply.started": "2023-10-27T05:35:40.671959Z"
    },
    "tags": []
   },
   "outputs": [],
   "source": [
    "def compute_metric(logits_and_loss):\n",
    "    logits , labels = logits_and_loss\n",
    "    prediction = np.argmax(logits , axis=-1)\n",
    "    accuracy = np.mean(prediction == labels)\n",
    "    return {\"acc\" : accuracy}"
   ]
  },
  {
   "cell_type": "code",
   "execution_count": 23,
   "id": "0c3cb593-2fa0-4aab-9b28-c9391dd86aaf",
   "metadata": {
    "execution": {
     "iopub.execute_input": "2023-10-27T05:35:44.529893Z",
     "iopub.status.busy": "2023-10-27T05:35:44.529478Z",
     "iopub.status.idle": "2023-10-27T05:35:44.539656Z",
     "shell.execute_reply": "2023-10-27T05:35:44.538811Z",
     "shell.execute_reply.started": "2023-10-27T05:35:44.529865Z"
    },
    "tags": []
   },
   "outputs": [
    {
     "name": "stderr",
     "output_type": "stream",
     "text": [
      "Detected kernel version 5.4.254, which is below the recommended minimum of 5.5.0; this can cause the process to hang. It is recommended to upgrade the kernel to the minimum version or higher.\n"
     ]
    }
   ],
   "source": [
    "trainer = Trainer(\n",
    "    model=model,\n",
    "    args=training_args,\n",
    "    train_dataset=tokenized_dataset[\"train\"],\n",
    "    eval_dataset=tokenized_dataset[\"test\"],\n",
    "    tokenizer=tokenizer,\n",
    "    compute_metrics=compute_metric\n",
    ")"
   ]
  },
  {
   "cell_type": "code",
   "execution_count": 24,
   "id": "63e4ebf5-7409-4fc8-b83d-12ed431c1834",
   "metadata": {
    "execution": {
     "iopub.execute_input": "2023-10-27T05:35:48.985157Z",
     "iopub.status.busy": "2023-10-27T05:35:48.984749Z",
     "iopub.status.idle": "2023-10-27T06:40:46.380936Z",
     "shell.execute_reply": "2023-10-27T06:40:46.380079Z",
     "shell.execute_reply.started": "2023-10-27T05:35:48.985131Z"
    },
    "tags": []
   },
   "outputs": [
    {
     "data": {
      "text/html": [
       "\n",
       "    <div>\n",
       "      \n",
       "      <progress value='4830' max='4830' style='width:300px; height:20px; vertical-align: middle;'></progress>\n",
       "      [4830/4830 1:04:56, Epoch 3/3]\n",
       "    </div>\n",
       "    <table border=\"1\" class=\"dataframe\">\n",
       "  <thead>\n",
       " <tr style=\"text-align: left;\">\n",
       "      <th>Epoch</th>\n",
       "      <th>Training Loss</th>\n",
       "      <th>Validation Loss</th>\n",
       "      <th>Acc</th>\n",
       "    </tr>\n",
       "  </thead>\n",
       "  <tbody>\n",
       "    <tr>\n",
       "      <td>1</td>\n",
       "      <td>0.143700</td>\n",
       "      <td>0.228672</td>\n",
       "      <td>0.942210</td>\n",
       "    </tr>\n",
       "    <tr>\n",
       "      <td>2</td>\n",
       "      <td>0.103000</td>\n",
       "      <td>0.204100</td>\n",
       "      <td>0.952264</td>\n",
       "    </tr>\n",
       "    <tr>\n",
       "      <td>3</td>\n",
       "      <td>0.050600</td>\n",
       "      <td>0.249234</td>\n",
       "      <td>0.953895</td>\n",
       "    </tr>\n",
       "  </tbody>\n",
       "</table><p>"
      ],
      "text/plain": [
       "<IPython.core.display.HTML object>"
      ]
     },
     "metadata": {},
     "output_type": "display_data"
    },
    {
     "data": {
      "text/plain": [
       "TrainOutput(global_step=4830, training_loss=0.10577863630053913, metrics={'train_runtime': 3897.0776, 'train_samples_per_second': 19.829, 'train_steps_per_second': 1.239, 'total_flos': 1.0236865722651648e+16, 'train_loss': 0.10577863630053913, 'epoch': 3.0})"
      ]
     },
     "execution_count": 24,
     "metadata": {},
     "output_type": "execute_result"
    }
   ],
   "source": [
    "trainer.train()"
   ]
  },
  {
   "cell_type": "code",
   "execution_count": 25,
   "id": "392356b9-eb27-47dc-9471-f568b05497f6",
   "metadata": {
    "execution": {
     "iopub.execute_input": "2023-10-27T06:46:02.584948Z",
     "iopub.status.busy": "2023-10-27T06:46:02.584534Z",
     "iopub.status.idle": "2023-10-27T06:46:03.077649Z",
     "shell.execute_reply": "2023-10-27T06:46:03.077016Z",
     "shell.execute_reply.started": "2023-10-27T06:46:02.584922Z"
    },
    "tags": []
   },
   "outputs": [],
   "source": [
    "trainer.save_model(\"model\")"
   ]
  },
  {
   "cell_type": "code",
   "execution_count": 28,
   "id": "20195510-c106-4be8-a310-825a5497e851",
   "metadata": {
    "execution": {
     "iopub.execute_input": "2023-10-27T06:47:37.851513Z",
     "iopub.status.busy": "2023-10-27T06:47:37.851120Z",
     "iopub.status.idle": "2023-10-27T06:47:37.855433Z",
     "shell.execute_reply": "2023-10-27T06:47:37.854416Z",
     "shell.execute_reply.started": "2023-10-27T06:47:37.851483Z"
    },
    "tags": []
   },
   "outputs": [],
   "source": [
    "from transformers import pipeline"
   ]
  },
  {
   "cell_type": "code",
   "execution_count": 29,
   "id": "249f6bab-b494-4be7-9b4e-665bda780aea",
   "metadata": {
    "execution": {
     "iopub.execute_input": "2023-10-27T06:47:40.301005Z",
     "iopub.status.busy": "2023-10-27T06:47:40.300600Z",
     "iopub.status.idle": "2023-10-27T06:47:41.120664Z",
     "shell.execute_reply": "2023-10-27T06:47:41.119926Z",
     "shell.execute_reply.started": "2023-10-27T06:47:40.300980Z"
    },
    "tags": []
   },
   "outputs": [],
   "source": [
    "result = pipeline(\"text-classification\" , device=0 , model=\"model\")"
   ]
  },
  {
   "cell_type": "code",
   "execution_count": 30,
   "id": "d9b882ad-5268-450e-973d-bd2ff388e172",
   "metadata": {
    "execution": {
     "iopub.execute_input": "2023-10-27T06:49:00.093031Z",
     "iopub.status.busy": "2023-10-27T06:49:00.092622Z",
     "iopub.status.idle": "2023-10-27T06:49:00.108643Z",
     "shell.execute_reply": "2023-10-27T06:49:00.107805Z",
     "shell.execute_reply.started": "2023-10-27T06:49:00.093006Z"
    },
    "tags": []
   },
   "outputs": [
    {
     "data": {
      "text/plain": [
       "[{'label': 'LABEL_2', 'score': 0.9974657297134399}]"
      ]
     },
     "execution_count": 30,
     "metadata": {},
     "output_type": "execute_result"
    }
   ],
   "source": [
    "result(\"I don't know if i should be happy or sad for my friend's birthday\")"
   ]
  },
  {
   "cell_type": "code",
   "execution_count": null,
   "id": "d12e65d3-ddac-4159-b076-f21c4cfa694f",
   "metadata": {},
   "outputs": [],
   "source": [
    "resule(\"i am happ\")"
   ]
  },
  {
   "cell_type": "code",
   "execution_count": 1,
   "id": "8b9c5c4c-c797-4b72-a14e-38810b7106a2",
   "metadata": {
    "execution": {
     "iopub.execute_input": "2023-10-28T04:42:34.891960Z",
     "iopub.status.busy": "2023-10-28T04:42:34.891575Z",
     "iopub.status.idle": "2023-10-28T04:42:34.898467Z",
     "shell.execute_reply": "2023-10-28T04:42:34.897676Z",
     "shell.execute_reply.started": "2023-10-28T04:42:34.891934Z"
    },
    "tags": []
   },
   "outputs": [],
   "source": [
    "import shutil"
   ]
  },
  {
   "cell_type": "code",
   "execution_count": 3,
   "id": "a2089558-b2aa-42b0-a29b-c15348a4ee8c",
   "metadata": {
    "execution": {
     "iopub.execute_input": "2023-10-28T04:43:26.735111Z",
     "iopub.status.busy": "2023-10-28T04:43:26.734727Z",
     "iopub.status.idle": "2023-10-28T04:43:40.474666Z",
     "shell.execute_reply": "2023-10-28T04:43:40.473839Z",
     "shell.execute_reply.started": "2023-10-28T04:43:26.735081Z"
    },
    "tags": []
   },
   "outputs": [
    {
     "data": {
      "text/plain": [
       "'/home/jovyan/workspace/fine_tune_transofrmer/model.zip'"
      ]
     },
     "execution_count": 3,
     "metadata": {},
     "output_type": "execute_result"
    }
   ],
   "source": [
    "shutil.make_archive(\"model\" , \"zip\" , \"model\")"
   ]
  },
  {
   "cell_type": "code",
   "execution_count": null,
   "id": "859f2e87-f6fa-4791-8099-8a029c2b2ca2",
   "metadata": {},
   "outputs": [],
   "source": []
  }
 ],
 "metadata": {
  "kernelspec": {
   "display_name": "saturn (Python 3)",
   "language": "python",
   "name": "python3"
  },
  "language_info": {
   "codemirror_mode": {
    "name": "ipython",
    "version": 3
   },
   "file_extension": ".py",
   "mimetype": "text/x-python",
   "name": "python",
   "nbconvert_exporter": "python",
   "pygments_lexer": "ipython3",
   "version": "3.9.15"
  }
 },
 "nbformat": 4,
 "nbformat_minor": 5
}
